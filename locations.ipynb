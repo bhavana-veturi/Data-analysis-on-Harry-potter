{
 "cells": [
  {
   "cell_type": "code",
   "execution_count": 2,
   "metadata": {},
   "outputs": [
    {
     "name": "stdout",
     "output_type": "stream",
     "text": [
      "Pivet Drive,Diagon Alley,Hogwarts,Azkaban,Ministry of Magic,Grimmauld Place\n",
      "[16, 8, 69, 0, 6, 0]\n",
      "[7, 5, 88, 7, 16, 0]\n",
      "[9, 11, 84, 44, 42, 0]\n",
      "[16, 5, 171, 36, 111, 0]\n",
      "[24, 7, 144, 40, 190, 31]\n",
      "[7, 13, 118, 23, 109, 6]\n",
      "[8, 8, 130, 18, 95, 19]\n"
     ]
    }
   ],
   "source": [
    "import nltk\n",
    "import os\n",
    "from nltk.util import ngrams\n",
    "\n",
    "from nltk.tokenize import RegexpTokenizer\n",
    "tokenizer = RegexpTokenizer(r'\\w+')\n",
    "\n",
    "\n",
    "character_counter = dict()\n",
    "\n",
    "books = list([1,2,3,4,5,6,7])\n",
    "print('{},{},{},{},{},{}'.format(\n",
    "    'Pivet Drive',\n",
    "    'Diagon Alley',\n",
    "    'Hogwarts',\n",
    "    'Azkaban',\n",
    "    'Ministry of Magic',\n",
    "    'Grimmauld Place',\n",
    "))\n",
    "for i in books:\n",
    "    #book_name = \"book_%s.txt\" % (str(i))\n",
    "    #book = open(os.path.join(\"book_%s.txt\"%(str(i)))).read().lower()\n",
    "    \n",
    "    with open(('book_%s.txt' % (str(i))), 'r',encoding='utf-8') as file:\n",
    "        contents = (file.read()).lower()\n",
    "        book = (nltk.word_tokenize(contents))\n",
    "        coun=[]\n",
    "        #print(book)\n",
    "        coun.append(book.count('privet'))#our tokeniztion takes induvidual words so \"pivet drive\" is not found but \"pivet\" exists\n",
    "        coun.append(book.count('diagon'))\n",
    "        coun.append(book.count('hogwarts'))\n",
    "        coun.append(book.count('azkaban'))\n",
    "        coun.append(book.count('ministry'))\n",
    "        coun.append(book.count('grimmauld'))\n",
    "        \n",
    "        print(coun)\n",
    "\n",
    "        coun=[]\n",
    "        #print(book)"
   ]
  },
  {
   "cell_type": "code",
   "execution_count": 16,
   "metadata": {},
   "outputs": [
    {
     "name": "stdout",
     "output_type": "stream",
     "text": [
      "32\n"
     ]
    }
   ],
   "source": [
    "print(book.count('expecto'))"
   ]
  }
 ],
 "metadata": {
  "kernelspec": {
   "display_name": "Python 3",
   "language": "python",
   "name": "python3"
  },
  "language_info": {
   "codemirror_mode": {
    "name": "ipython",
    "version": 3
   },
   "file_extension": ".py",
   "mimetype": "text/x-python",
   "name": "python",
   "nbconvert_exporter": "python",
   "pygments_lexer": "ipython3",
   "version": "3.6.5"
  }
 },
 "nbformat": 4,
 "nbformat_minor": 2
}
