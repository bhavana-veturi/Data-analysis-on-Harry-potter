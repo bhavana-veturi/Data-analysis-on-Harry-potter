{
 "cells": [
  {
   "cell_type": "code",
   "execution_count": 19,
   "metadata": {},
   "outputs": [
    {
     "name": "stdout",
     "output_type": "stream",
     "text": [
      "Expecto Patronum,Accio,Wingardium Leviosa,Expelliarmus,Stupefy,Lumos,Alohomora,Imperio,Crucio,Avada Kedavra\n",
      "[0, 0, 3, 0, 0, 0, 2, 0, 0, 0]\n",
      "[0, 0, 0, 3, 0, 2, 0, 0, 0, 0]\n",
      "[32, 0, 0, 4, 0, 4, 1, 0, 0, 0]\n",
      "[1, 8, 0, 2, 10, 4, 0, 3, 5, 9]\n",
      "[4, 10, 1, 6, 7, 2, 3, 0, 4, 4]\n",
      "[0, 3, 0, 2, 1, 2, 1, 0, 2, 3]\n",
      "[6, 13, 2, 8, 9, 5, 0, 4, 4, 8]\n"
     ]
    }
   ],
   "source": [
    "import nltk\n",
    "import os\n",
    "from nltk.util import ngrams\n",
    "\n",
    "from nltk.tokenize import RegexpTokenizer\n",
    "tokenizer = RegexpTokenizer(r'\\w+')\n",
    "\n",
    "\n",
    "character_counter = dict()\n",
    "\n",
    "books = list([1,2,3,4,5,6,7])\n",
    "print('{},{},{},{},{},{},{},{},{},{}'.format(\n",
    "    'Expecto Patronum',\n",
    "    'Accio',\n",
    "    'Wingardium Leviosa',\n",
    "    'Expelliarmus',\n",
    "    'Stupefy',\n",
    "    'Lumos',\n",
    "    'Alohomora',\n",
    "    'Imperio',\n",
    "    'Crucio',\n",
    "    'Avada Kedavra',\n",
    "))\n",
    "for i in books:\n",
    "    #book_name = \"book_%s.txt\" % (str(i))\n",
    "    #book = open(os.path.join(\"book_%s.txt\"%(str(i)))).read().lower()\n",
    "    \n",
    "    with open(('book_%s.txt' % (str(i))), 'r',encoding='utf-8') as file:\n",
    "        contents = (file.read()).lower()\n",
    "        book = (nltk.word_tokenize(contents))\n",
    "        coun=[]\n",
    "        #print(book)\n",
    "        coun.append(book.count('expecto'))\n",
    "        coun.append(book.count('accio'))\n",
    "        coun.append(book.count('wingardium'))\n",
    "        coun.append(book.count('expelliarmus'))\n",
    "        coun.append(book.count('stupefy'))\n",
    "        coun.append(book.count('lumos'))\n",
    "        coun.append(book.count('alohomora'))\n",
    "        coun.append(book.count('imperio'))\n",
    "        coun.append(book.count('crucio'))\n",
    "        coun.append(book.count('avada'))\n",
    "        print(coun)\n",
    "\n",
    "        coun=[]\n",
    "        #print(book)"
   ]
  },
  {
   "cell_type": "code",
   "execution_count": 16,
   "metadata": {},
   "outputs": [
    {
     "name": "stdout",
     "output_type": "stream",
     "text": [
      "32\n"
     ]
    }
   ],
   "source": [
    "print(book.count('expecto'))"
   ]
  }
 ],
 "metadata": {
  "kernelspec": {
   "display_name": "Python 3",
   "language": "python",
   "name": "python3"
  },
  "language_info": {
   "codemirror_mode": {
    "name": "ipython",
    "version": 3
   },
   "file_extension": ".py",
   "mimetype": "text/x-python",
   "name": "python",
   "nbconvert_exporter": "python",
   "pygments_lexer": "ipython3",
   "version": "3.6.5"
  }
 },
 "nbformat": 4,
 "nbformat_minor": 2
}
