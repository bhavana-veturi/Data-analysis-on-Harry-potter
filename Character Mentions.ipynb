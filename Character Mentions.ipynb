{
 "cells": [
  {
   "cell_type": "code",
   "execution_count": 4,
   "metadata": {},
   "outputs": [
    {
     "name": "stdout",
     "output_type": "stream",
     "text": [
      "Harry Potter,Hermoine Granger,Ronald Weasley,Ginny Weasley,Dumbledore,Draco Malfoy,Dobby,Voldemort,Snape,Bellatrix Lestrange,Dolores Umbridge,Prof.Minerva McGonagall,\n",
      "[1418, 265, 425, 5, 151, 130, 0, 34, 168, 0, 0, 94]\n",
      "[1783, 311, 705, 117, 151, 245, 152, 25, 98, 0, 0, 88]\n",
      "[2145, 663, 791, 18, 151, 196, 0, 43, 245, 0, 0, 103]\n",
      "[3403, 850, 1044, 46, 546, 152, 170, 223, 255, 0, 0, 98]\n",
      "[4338, 1285, 1303, 229, 602, 230, 62, 199, 380, 51, 536, 186]\n",
      "[2858, 656, 877, 232, 955, 422, 36, 230, 373, 47, 12, 78]\n",
      "[3342, 1217, 1175, 122, 585, 140, 44, 447, 289, 97, 46, 77]\n"
     ]
    }
   ],
   "source": [
    "import nltk\n",
    "import os\n",
    "from nltk.util import ngrams\n",
    "\n",
    "from nltk.tokenize import RegexpTokenizer\n",
    "tokenizer = RegexpTokenizer(r'\\w+')\n",
    "\n",
    "\n",
    "character_counter = dict()\n",
    "\n",
    "books = list([1,2,3,4,5,6,7])\n",
    "print('{},{},{},{},{},{},{},{},{},{},{},{}'.format(\n",
    "    'Harry Potter',\n",
    "    'Hermoine Granger',\n",
    "    'Ronald Weasley',\n",
    "    'Ginny Weasley',\n",
    "    'Dumbledore',\n",
    "    'Draco Malfoy',\n",
    "    'Dobby',\n",
    "    'Voldemort',\n",
    "    'Snape',\n",
    "    'Bellatrix Lestrange',\n",
    "    'Dolores Umbridge',\n",
    "    'Prof.Minerva McGonagall,'\n",
    "))\n",
    "for i in books:\n",
    "    #book_name = \"book_%s.txt\" % (str(i))\n",
    "    #book = open(os.path.join(\"book_%s.txt\"%(str(i)))).read().lower()\n",
    "    \n",
    "    with open(('book_%s.txt' % (str(i))), 'r',encoding='utf-8') as file:\n",
    "        contents = (file.read()).lower()\n",
    "        book = (nltk.word_tokenize(contents))\n",
    "        coun=[]\n",
    "        #print(book)\n",
    "        h=(book.count('harry'))# i know this causess duplication of values but whatever\n",
    "        h+=book.count('potter')\n",
    "        coun.append(h)\n",
    "        coun.append(book.count('hermione'))\n",
    "        coun.append(book.count('ron'))\n",
    "        coun.append(book.count('ginny'))\n",
    "        coun.append(book.count('dumbledore'))\n",
    "        d=(book.count('draco'))\n",
    "        d+=book.count('malfoy')\n",
    "        coun.append(d)\n",
    "        coun.append(book.count('dobby'))\n",
    "        v=(book.count('named'))\n",
    "        v+=(book.count('voldemort'))\n",
    "        coun.append(v)\n",
    "        coun.append(book.count('snape'))\n",
    "        coun.append(book.count('bellatrix'))\n",
    "        brat=0\n",
    "        brat+=book.count('umbridge')\n",
    "        coun.append(brat)\n",
    "        mcg=book.count('minerva')\n",
    "        mcg+=book.count('mcgonagall')\n",
    "        coun.append(mcg)\n",
    "        print(coun)\n",
    "\n",
    "        coun=[]\n",
    "        #print(book)"
   ]
  },
  {
   "cell_type": "code",
   "execution_count": 16,
   "metadata": {},
   "outputs": [
    {
     "name": "stdout",
     "output_type": "stream",
     "text": [
      "32\n"
     ]
    }
   ],
   "source": [
    "print(book.count('expecto'))"
   ]
  }
 ],
 "metadata": {
  "kernelspec": {
   "display_name": "Python 3",
   "language": "python",
   "name": "python3"
  },
  "language_info": {
   "codemirror_mode": {
    "name": "ipython",
    "version": 3
   },
   "file_extension": ".py",
   "mimetype": "text/x-python",
   "name": "python",
   "nbconvert_exporter": "python",
   "pygments_lexer": "ipython3",
   "version": "3.6.5"
  }
 },
 "nbformat": 4,
 "nbformat_minor": 2
}
